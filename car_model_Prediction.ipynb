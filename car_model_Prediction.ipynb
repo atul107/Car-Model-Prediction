{
  "nbformat": 4,
  "nbformat_minor": 0,
  "metadata": {
    "colab": {
      "name": "car-model_Prediction.ipynb",
      "version": "0.3.2",
      "provenance": [],
      "collapsed_sections": [],
      "include_colab_link": true
    },
    "kernelspec": {
      "name": "python3",
      "display_name": "Python 3"
    }
  },
  "cells": [
    {
      "cell_type": "markdown",
      "metadata": {
        "id": "view-in-github",
        "colab_type": "text"
      },
      "source": [
        "<a href=\"https://colab.research.google.com/github/atul107/Car-Model-Prediction/blob/master/car_model_Prediction.ipynb\" target=\"_parent\"><img src=\"https://colab.research.google.com/assets/colab-badge.svg\" alt=\"Open In Colab\"/></a>"
      ]
    },
    {
      "cell_type": "code",
      "metadata": {
        "id": "RCDy330Ysj_z",
        "colab_type": "code",
        "outputId": "f074a769-e423-435b-bc59-f04ce93e305c",
        "colab": {
          "base_uri": "https://localhost:8080/",
          "height": 124
        }
      },
      "source": [
        "from google.colab import drive\n",
        "drive.mount('/content/gdrive')"
      ],
      "execution_count": 1,
      "outputs": [
        {
          "output_type": "stream",
          "text": [
            "Go to this URL in a browser: https://accounts.google.com/o/oauth2/auth?client_id=947318989803-6bn6qk8qdgf4n4g3pfee6491hc0brc4i.apps.googleusercontent.com&redirect_uri=urn%3Aietf%3Awg%3Aoauth%3A2.0%3Aoob&scope=email%20https%3A%2F%2Fwww.googleapis.com%2Fauth%2Fdocs.test%20https%3A%2F%2Fwww.googleapis.com%2Fauth%2Fdrive%20https%3A%2F%2Fwww.googleapis.com%2Fauth%2Fdrive.photos.readonly%20https%3A%2F%2Fwww.googleapis.com%2Fauth%2Fpeopleapi.readonly&response_type=code\n",
            "\n",
            "Enter your authorization code:\n",
            "··········\n",
            "Mounted at /content/gdrive\n"
          ],
          "name": "stdout"
        }
      ]
    },
    {
      "cell_type": "code",
      "metadata": {
        "id": "HyNJgaAnsn_J",
        "colab_type": "code",
        "outputId": "faf01093-bd0b-4433-a5b6-86ab90e6c9ea",
        "colab": {
          "base_uri": "https://localhost:8080/",
          "height": 52
        }
      },
      "source": [
        "!ls\n"
      ],
      "execution_count": 61,
      "outputs": [
        {
          "output_type": "stream",
          "text": [
            "cars_meta.csv  cars_test_annos.mat   eval_train.m  train_perfect_preds.txt\n",
            "cars_meta.mat  cars_train_annos.mat  README.txt\n"
          ],
          "name": "stdout"
        }
      ]
    },
    {
      "cell_type": "code",
      "metadata": {
        "id": "2YCbTbvntWdo",
        "colab_type": "code",
        "outputId": "46a86dce-877d-48b5-c102-852c8f66866e",
        "colab": {
          "base_uri": "https://localhost:8080/",
          "height": 1354
        }
      },
      "source": [
        "!wget http://imagenet.stanford.edu/internal/car196/bmw10_release.tgz\n",
        "!wget http://imagenet.stanford.edu/internal/car196/cars_test.tgz\n",
        "!wget http://imagenet.stanford.edu/internal/car196/cars_train.tgz\n",
        "!wget https://ai.stanford.edu/~jkrause/cars/car_devkit.tgz\n",
        "!wget http://imagenet.stanford.edu/internal/car196/car_ims.tgz\n",
        "!wget http://imagenet.stanford.edu/internal/car196/cars_annos.mat\n",
        "!wget http://imagenet.stanford.edu/internal/car196/cars_test_annos_withlabels.mat"
      ],
      "execution_count": 3,
      "outputs": [
        {
          "output_type": "stream",
          "text": [
            "--2019-06-11 06:02:01--  http://imagenet.stanford.edu/internal/car196/bmw10_release.tgz\n",
            "Resolving imagenet.stanford.edu (imagenet.stanford.edu)... 171.64.68.16\n",
            "Connecting to imagenet.stanford.edu (imagenet.stanford.edu)|171.64.68.16|:80... connected.\n",
            "HTTP request sent, awaiting response... 200 OK\n",
            "Length: 59628953 (57M) [application/x-gzip]\n",
            "Saving to: ‘bmw10_release.tgz’\n",
            "\n",
            "bmw10_release.tgz   100%[===================>]  56.87M  13.0MB/s    in 8.2s    \n",
            "\n",
            "2019-06-11 06:02:10 (6.90 MB/s) - ‘bmw10_release.tgz’ saved [59628953/59628953]\n",
            "\n",
            "--2019-06-11 06:02:12--  http://imagenet.stanford.edu/internal/car196/cars_test.tgz\n",
            "Resolving imagenet.stanford.edu (imagenet.stanford.edu)... 171.64.68.16\n",
            "Connecting to imagenet.stanford.edu (imagenet.stanford.edu)|171.64.68.16|:80... connected.\n",
            "HTTP request sent, awaiting response... 200 OK\n",
            "Length: 977350468 (932M) [application/x-gzip]\n",
            "Saving to: ‘cars_test.tgz’\n",
            "\n",
            "cars_test.tgz       100%[===================>] 932.07M   471KB/s    in 12m 4s  \n",
            "\n",
            "2019-06-11 06:14:16 (1.29 MB/s) - ‘cars_test.tgz’ saved [977350468/977350468]\n",
            "\n",
            "--2019-06-11 06:14:18--  http://imagenet.stanford.edu/internal/car196/cars_train.tgz\n",
            "Resolving imagenet.stanford.edu (imagenet.stanford.edu)... 171.64.68.16\n",
            "Connecting to imagenet.stanford.edu (imagenet.stanford.edu)|171.64.68.16|:80... connected.\n",
            "HTTP request sent, awaiting response... 200 OK\n",
            "Length: 979269282 (934M) [application/x-gzip]\n",
            "Saving to: ‘cars_train.tgz’\n",
            "\n",
            "cars_train.tgz      100%[===================>] 933.90M  3.51MB/s    in 13m 11s \n",
            "\n",
            "2019-06-11 06:27:29 (1.18 MB/s) - ‘cars_train.tgz’ saved [979269282/979269282]\n",
            "\n",
            "--2019-06-11 06:27:31--  https://ai.stanford.edu/~jkrause/cars/car_devkit.tgz\n",
            "Resolving ai.stanford.edu (ai.stanford.edu)... 171.64.68.10\n",
            "Connecting to ai.stanford.edu (ai.stanford.edu)|171.64.68.10|:443... connected.\n",
            "HTTP request sent, awaiting response... 200 OK\n",
            "Length: 330960 (323K) [application/x-gzip]\n",
            "Saving to: ‘car_devkit.tgz’\n",
            "\n",
            "car_devkit.tgz      100%[===================>] 323.20K   458KB/s    in 0.7s    \n",
            "\n",
            "2019-06-11 06:27:32 (458 KB/s) - ‘car_devkit.tgz’ saved [330960/330960]\n",
            "\n",
            "--2019-06-11 06:27:34--  http://imagenet.stanford.edu/internal/car196/car_ims.tgz\n",
            "Resolving imagenet.stanford.edu (imagenet.stanford.edu)... 171.64.68.16\n",
            "Connecting to imagenet.stanford.edu (imagenet.stanford.edu)|171.64.68.16|:80... connected.\n",
            "HTTP request sent, awaiting response... 200 OK\n",
            "Length: 1956628579 (1.8G) [application/x-gzip]\n",
            "Saving to: ‘car_ims.tgz’\n",
            "\n",
            "car_ims.tgz         100%[===================>]   1.82G   663KB/s    in 32m 50s \n",
            "\n",
            "2019-06-11 07:00:24 (970 KB/s) - ‘car_ims.tgz’ saved [1956628579/1956628579]\n",
            "\n",
            "--2019-06-11 07:00:26--  http://imagenet.stanford.edu/internal/car196/cars_annos.mat\n",
            "Resolving imagenet.stanford.edu (imagenet.stanford.edu)... 171.64.68.16\n",
            "Connecting to imagenet.stanford.edu (imagenet.stanford.edu)|171.64.68.16|:80... connected.\n",
            "HTTP request sent, awaiting response... 200 OK\n",
            "Length: 394471 (385K) [text/plain]\n",
            "Saving to: ‘cars_annos.mat’\n",
            "\n",
            "cars_annos.mat      100%[===================>] 385.23K   363KB/s    in 1.1s    \n",
            "\n",
            "2019-06-11 07:00:27 (363 KB/s) - ‘cars_annos.mat’ saved [394471/394471]\n",
            "\n",
            "--2019-06-11 07:00:29--  http://imagenet.stanford.edu/internal/car196/cars_test_annos_withlabels.mat\n",
            "Resolving imagenet.stanford.edu (imagenet.stanford.edu)... 171.64.68.16\n",
            "Connecting to imagenet.stanford.edu (imagenet.stanford.edu)|171.64.68.16|:80... connected.\n",
            "HTTP request sent, awaiting response... 200 OK\n",
            "Length: 185758 (181K) [text/plain]\n",
            "Saving to: ‘cars_test_annos_withlabels.mat’\n",
            "\n",
            "cars_test_annos_wit 100%[===================>] 181.40K   234KB/s    in 0.8s    \n",
            "\n",
            "2019-06-11 07:00:30 (234 KB/s) - ‘cars_test_annos_withlabels.mat’ saved [185758/185758]\n",
            "\n"
          ],
          "name": "stdout"
        }
      ]
    },
    {
      "cell_type": "code",
      "metadata": {
        "id": "gVPRE6Ao4_WK",
        "colab_type": "code",
        "colab": {}
      },
      "source": [
        "!tar -xvf bmw10_release.tgz\n",
        "!rm -rf bmw10_release.tgz\n",
        "!tar -xvf car_devkit.tgz\n",
        "!rm -rf car_devkit.tgz\n",
        "!tar -xvf car_ims.tgz\n",
        "!rm -rf car_ims.tgz\n",
        "!tar -xvf cars_test.tgz\n",
        "!rm -rf cars_test.tgz\n",
        "!tar -xvf cars_train.tgz\n",
        "!rm -rf cars_train.tgz"
      ],
      "execution_count": 0,
      "outputs": []
    },
    {
      "cell_type": "code",
      "metadata": {
        "id": "pcJzzJpozl-x",
        "colab_type": "code",
        "colab": {
          "base_uri": "https://localhost:8080/",
          "height": 34
        },
        "outputId": "168d72e1-4f74-466f-c32e-507a54aa3f74"
      },
      "source": [
        "%cd ../"
      ],
      "execution_count": 62,
      "outputs": [
        {
          "output_type": "stream",
          "text": [
            "/content/gdrive/My Drive\n"
          ],
          "name": "stdout"
        }
      ]
    },
    {
      "cell_type": "code",
      "metadata": {
        "id": "VlKQQGwrzpaR",
        "colab_type": "code",
        "colab": {}
      },
      "source": [
        "!rm -rf car_data.zip"
      ],
      "execution_count": 0,
      "outputs": []
    },
    {
      "cell_type": "code",
      "metadata": {
        "id": "0DD4XbrItdEK",
        "colab_type": "code",
        "colab": {}
      },
      "source": [
        "import numpy as np # linear algebra\n",
        "import pandas as pd # data processing, CSV file I/O (e.g. pd.read_csv)\n",
        "import cv2\n",
        "%matplotlib inline\n",
        "import matplotlib.pyplot as plt\n",
        "import seaborn as sn\n",
        "import pandas as pd\n",
        "import pickle\n",
        "import csv\n",
        "\n",
        "from sklearn.metrics import confusion_matrix, classification_report\n",
        "import tensorflow as tf\n",
        "from PIL import Image\n",
        "\n",
        "import os\n",
        "#print(os.listdir(\"/cars_train\"))"
      ],
      "execution_count": 0,
      "outputs": []
    },
    {
      "cell_type": "code",
      "metadata": {
        "id": "WgppjVDTlK0k",
        "colab_type": "code",
        "colab": {}
      },
      "source": [
        "\n",
        "\n",
        "path_base = 'cars_train'\n",
        "\n",
        "image = Image.open(path_base + '/00001.jpg')\n",
        "imgplot = plt.imshow(image)\n",
        "plt.show()\n",
        "\n"
      ],
      "execution_count": 0,
      "outputs": []
    },
    {
      "cell_type": "code",
      "metadata": {
        "id": "xtOraP0M0nzI",
        "colab_type": "code",
        "colab": {
          "base_uri": "https://localhost:8080/",
          "height": 69
        },
        "outputId": "c59a52d4-a6bb-4584-a173-9d8bd670bf7a"
      },
      "source": [
        "!ls"
      ],
      "execution_count": 72,
      "outputs": [
        {
          "output_type": "stream",
          "text": [
            " bmw10_annos.mat   cars_annos.mat\t\t    cars_train\n",
            " bmw10_ims\t   cars_test\t\t\t    devkit\n",
            " car_ims\t   cars_test_annos_withlabels.mat  'Getting started.pdf'\n"
          ],
          "name": "stdout"
        }
      ]
    },
    {
      "cell_type": "code",
      "metadata": {
        "id": "9EfIS1CZc1dB",
        "colab_type": "code",
        "colab": {
          "base_uri": "https://localhost:8080/",
          "height": 54
        },
        "outputId": "ae6b6b21-f75b-4285-cae2-b38bf6bf9c28"
      },
      "source": [
        "class_names = []\n",
        "\n",
        "with open( 'devkit/cars_meta.csv') as csvDataFile:\n",
        "    csvReader = csv.reader(csvDataFile, delimiter=';')\n",
        "    for row in csvReader:\n",
        "        class_names.append(row[0])\n",
        "\n",
        "print(class_names)\n",
        "\n",
        "# import scipy.io\n",
        "# import numpy as np\n",
        "\n",
        "\n",
        "# data = scipy.io.loadmat(\"devkit/cars_meta.mat\")\n",
        "# class_names1 = []\n",
        "# for i in data:\n",
        "#     print(i)\n",
        "#     if '__' not in i and 'readme' not in i:\n",
        "#          #np.savetxt((\"cars_meta.csv\"),data[i],delimiter=',')\n",
        "#          class_names1.append(data[i])\n",
        "# print(class_names1)\n",
        "\n"
      ],
      "execution_count": 76,
      "outputs": [
        {
          "output_type": "stream",
          "text": [
            "['AM General Hummer SUV 2000', 'Acura RL Sedan 2012', 'Acura TL Sedan 2012', 'Acura TL Type-S 2008', 'Acura TSX Sedan 2012', 'Acura Integra Type R 2001', 'Acura ZDX Hatchback 2012', 'Aston Martin V8 Vantage Convertible 2012', 'Aston Martin V8 Vantage Coupe 2012', 'Aston Martin Virage Convertible 2012', 'Aston Martin Virage Coupe 2012', 'Audi RS 4 Convertible 2008', 'Audi A5 Coupe 2012', 'Audi TTS Coupe 2012', 'Audi R8 Coupe 2012', 'Audi V8 Sedan 1994', 'Audi 100 Sedan 1994', 'Audi 100 Wagon 1994', 'Audi TT Hatchback 2011', 'Audi S6 Sedan 2011', 'Audi S5 Convertible 2012', 'Audi S5 Coupe 2012', 'Audi S4 Sedan 2012', 'Audi S4 Sedan 2007', 'Audi TT RS Coupe 2012', 'BMW ActiveHybrid 5 Sedan 2012', 'BMW 1 Series Convertible 2012', 'BMW 1 Series Coupe 2012', 'BMW 3 Series Sedan 2012', 'BMW 3 Series Wagon 2012', 'BMW 6 Series Convertible 2007', 'BMW X5 SUV 2007', 'BMW X6 SUV 2012', 'BMW M3 Coupe 2012', 'BMW M5 Sedan 2010', 'BMW M6 Convertible 2010', 'BMW X3 SUV 2012', 'BMW Z4 Convertible 2012', 'Bentley Continental Supersports Conv. Convertible 2012', 'Bentley Arnage Sedan 2009', 'Bentley Mulsanne Sedan 2011', 'Bentley Continental GT Coupe 2012', 'Bentley Continental GT Coupe 2007', 'Bentley Continental Flying Spur Sedan 2007', 'Bugatti Veyron 16.4 Convertible 2009', 'Bugatti Veyron 16.4 Coupe 2009', 'Buick Regal GS 2012', 'Buick Rainier SUV 2007', 'Buick Verano Sedan 2012', 'Buick Enclave SUV 2012', 'Cadillac CTS-V Sedan 2012', 'Cadillac SRX SUV 2012', 'Cadillac Escalade EXT Crew Cab 2007', 'Chevrolet Silverado 1500 Hybrid Crew Cab 2012', 'Chevrolet Corvette Convertible 2012', 'Chevrolet Corvette ZR1 2012', 'Chevrolet Corvette Ron Fellows Edition Z06 2007', 'Chevrolet Traverse SUV 2012', 'Chevrolet Camaro Convertible 2012', 'Chevrolet HHR SS 2010', 'Chevrolet Impala Sedan 2007', 'Chevrolet Tahoe Hybrid SUV 2012', 'Chevrolet Sonic Sedan 2012', 'Chevrolet Express Cargo Van 2007', 'Chevrolet Avalanche Crew Cab 2012', 'Chevrolet Cobalt SS 2010', 'Chevrolet Malibu Hybrid Sedan 2010', 'Chevrolet TrailBlazer SS 2009', 'Chevrolet Silverado 2500HD Regular Cab 2012', 'Chevrolet Silverado 1500 Classic Extended Cab 2007', 'Chevrolet Express Van 2007', 'Chevrolet Monte Carlo Coupe 2007', 'Chevrolet Malibu Sedan 2007', 'Chevrolet Silverado 1500 Extended Cab 2012', 'Chevrolet Silverado 1500 Regular Cab 2012', 'Chrysler Aspen SUV 2009', 'Chrysler Sebring Convertible 2010', 'Chrysler Town and Country Minivan 2012', 'Chrysler 300 SRT-8 2010', 'Chrysler Crossfire Convertible 2008', 'Chrysler PT Cruiser Convertible 2008', 'Daewoo Nubira Wagon 2002', 'Dodge Caliber Wagon 2012', 'Dodge Caliber Wagon 2007', 'Dodge Caravan Minivan 1997', 'Dodge Ram Pickup 3500 Crew Cab 2010', 'Dodge Ram Pickup 3500 Quad Cab 2009', 'Dodge Sprinter Cargo Van 2009', 'Dodge Journey SUV 2012', 'Dodge Dakota Crew Cab 2010', 'Dodge Dakota Club Cab 2007', 'Dodge Magnum Wagon 2008', 'Dodge Challenger SRT8 2011', 'Dodge Durango SUV 2012', 'Dodge Durango SUV 2007', 'Dodge Charger Sedan 2012', 'Dodge Charger SRT-8 2009', 'Eagle Talon Hatchback 1998', 'FIAT 500 Abarth 2012', 'FIAT 500 Convertible 2012', 'Ferrari FF Coupe 2012', 'Ferrari California Convertible 2012', 'Ferrari 458 Italia Convertible 2012', 'Ferrari 458 Italia Coupe 2012', 'Fisker Karma Sedan 2012', 'Ford F-450 Super Duty Crew Cab 2012', 'Ford Mustang Convertible 2007', 'Ford Freestar Minivan 2007', 'Ford Expedition EL SUV 2009', 'Ford Edge SUV 2012', 'Ford Ranger SuperCab 2011', 'Ford GT Coupe 2006', 'Ford F-150 Regular Cab 2012', 'Ford F-150 Regular Cab 2007', 'Ford Focus Sedan 2007', 'Ford E-Series Wagon Van 2012', 'Ford Fiesta Sedan 2012', 'GMC Terrain SUV 2012', 'GMC Savana Van 2012', 'GMC Yukon Hybrid SUV 2012', 'GMC Acadia SUV 2012', 'GMC Canyon Extended Cab 2012', 'Geo Metro Convertible 1993', 'HUMMER H3T Crew Cab 2010', 'HUMMER H2 SUT Crew Cab 2009', 'Honda Odyssey Minivan 2012', 'Honda Odyssey Minivan 2007', 'Honda Accord Coupe 2012', 'Honda Accord Sedan 2012', 'Hyundai Veloster Hatchback 2012', 'Hyundai Santa Fe SUV 2012', 'Hyundai Tucson SUV 2012', 'Hyundai Veracruz SUV 2012', 'Hyundai Sonata Hybrid Sedan 2012', 'Hyundai Elantra Sedan 2007', 'Hyundai Accent Sedan 2012', 'Hyundai Genesis Sedan 2012', 'Hyundai Sonata Sedan 2012', 'Hyundai Elantra Touring Hatchback 2012', 'Hyundai Azera Sedan 2012', 'Infiniti G Coupe IPL 2012', 'Infiniti QX56 SUV 2011', 'Isuzu Ascender SUV 2008', 'Jaguar XK XKR 2012', 'Jeep Patriot SUV 2012', 'Jeep Wrangler SUV 2012', 'Jeep Liberty SUV 2012', 'Jeep Grand Cherokee SUV 2012', 'Jeep Compass SUV 2012', 'Lamborghini Reventon Coupe 2008', 'Lamborghini Aventador Coupe 2012', 'Lamborghini Gallardo LP 570-4 Superleggera 2012', 'Lamborghini Diablo Coupe 2001', 'Land Rover Range Rover SUV 2012', 'Land Rover LR2 SUV 2012', 'Lincoln Town Car Sedan 2011', 'MINI Cooper Roadster Convertible 2012', 'Maybach Landaulet Convertible 2012', 'Mazda Tribute SUV 2011', 'McLaren MP4-12C Coupe 2012', 'Mercedes-Benz 300-Class Convertible 1993', 'Mercedes-Benz C-Class Sedan 2012', 'Mercedes-Benz SL-Class Coupe 2009', 'Mercedes-Benz E-Class Sedan 2012', 'Mercedes-Benz S-Class Sedan 2012', 'Mercedes-Benz Sprinter Van 2012', 'Mitsubishi Lancer Sedan 2012', 'Nissan Leaf Hatchback 2012', 'Nissan NV Passenger Van 2012', 'Nissan Juke Hatchback 2012', 'Nissan 240SX Coupe 1998', 'Plymouth Neon Coupe 1999', 'Porsche Panamera Sedan 2012', 'Ram C/V Cargo Van Minivan 2012', 'Rolls-Royce Phantom Drophead Coupe Convertible 2012', 'Rolls-Royce Ghost Sedan 2012', 'Rolls-Royce Phantom Sedan 2012', 'Scion xD Hatchback 2012', 'Spyker C8 Convertible 2009', 'Spyker C8 Coupe 2009', 'Suzuki Aerio Sedan 2007', 'Suzuki Kizashi Sedan 2012', 'Suzuki SX4 Hatchback 2012', 'Suzuki SX4 Sedan 2012', 'Tesla Model S Sedan 2012', 'Toyota Sequoia SUV 2012', 'Toyota Camry Sedan 2012', 'Toyota Corolla Sedan 2012', 'Toyota 4Runner SUV 2012', 'Volkswagen Golf Hatchback 2012', 'Volkswagen Golf Hatchback 1991', 'Volkswagen Beetle Hatchback 2012', 'Volvo C30 Hatchback 2012', 'Volvo 240 Sedan 1993', 'Volvo XC90 SUV 2007', 'smart fortwo Convertible 2012']\n"
          ],
          "name": "stdout"
        }
      ]
    },
    {
      "cell_type": "code",
      "metadata": {
        "id": "djf15Jz5DVPh",
        "colab_type": "code",
        "colab": {}
      },
      "source": [
        "!unzip car_data.zip\n",
        "!rm -rf car_data.zip"
      ],
      "execution_count": 0,
      "outputs": []
    },
    {
      "cell_type": "code",
      "metadata": {
        "id": "_C7_XXxZu69b",
        "colab_type": "code",
        "colab": {}
      },
      "source": [
        ""
      ],
      "execution_count": 0,
      "outputs": []
    },
    {
      "cell_type": "code",
      "metadata": {
        "id": "viQq9-oMu-bY",
        "colab_type": "code",
        "colab": {}
      },
      "source": [
        "from keras.preprocessing.image import ImageDataGenerator\n",
        "from keras.applications import densenet\n",
        "from keras.models import Sequential, Model, load_model\n",
        "from keras.layers import Conv2D, MaxPooling2D\n",
        "from keras.layers import Activation, Dropout, Flatten, Dense\n",
        "from keras.callbacks import EarlyStopping, ReduceLROnPlateau, ModelCheckpoint, Callback\n",
        "from keras import regularizers\n",
        "from keras import backend as K"
      ],
      "execution_count": 0,
      "outputs": []
    },
    {
      "cell_type": "code",
      "metadata": {
        "id": "lz_T1lB5vBLm",
        "colab_type": "code",
        "colab": {}
      },
      "source": [
        "K.set_learning_phase(1)"
      ],
      "execution_count": 0,
      "outputs": []
    },
    {
      "cell_type": "code",
      "metadata": {
        "id": "HCb8CQL_vEIs",
        "colab_type": "code",
        "colab": {}
      },
      "source": [
        "img_width, img_height = 224, 224\n",
        "nb_train_samples = 8144\n",
        "nb_validation_samples = 8041\n",
        "epochs = 10\n",
        "batch_size = 32\n",
        "n_classes = 196"
      ],
      "execution_count": 0,
      "outputs": []
    },
    {
      "cell_type": "code",
      "metadata": {
        "id": "4hJWjCAYvKqA",
        "colab_type": "code",
        "colab": {
          "base_uri": "https://localhost:8080/",
          "height": 52
        },
        "outputId": "82092976-6e94-4a99-84b8-ebdbea59f4c6"
      },
      "source": [
        "train_data_dir =  'car_ims'\n",
        "validation_data_dir = 'cars_test'\n",
        "\n",
        "train_datagen = ImageDataGenerator(\n",
        "    rescale=1. / 255,\n",
        "    #shear_range=0.2,\n",
        "    zoom_range=0.2,\n",
        "    #fill_mode = 'constant',\n",
        "    #cval = 1,\n",
        "    rotation_range = 5,\n",
        "    #width_shift_range=0.2,\n",
        "    #height_shift_range=0.2,\n",
        "    horizontal_flip=True)\n",
        "\n",
        "test_datagen = ImageDataGenerator(rescale=1. / 255)\n",
        "\n",
        "train_generator = train_datagen.flow_from_directory(\n",
        "    train_data_dir,\n",
        "    target_size=(img_width, img_height),\n",
        "    batch_size=batch_size,\n",
        "    class_mode='categorical')\n",
        "\n",
        "validation_generator = test_datagen.flow_from_directory(\n",
        "    validation_data_dir,\n",
        "    target_size=(img_width, img_height),\n",
        "    batch_size=batch_size,\n",
        "    class_mode='categorical')"
      ],
      "execution_count": 83,
      "outputs": [
        {
          "output_type": "stream",
          "text": [
            "Found 0 images belonging to 0 classes.\n",
            "Found 0 images belonging to 0 classes.\n"
          ],
          "name": "stdout"
        }
      ]
    },
    {
      "cell_type": "code",
      "metadata": {
        "id": "2Qunbrt9vNye",
        "colab_type": "code",
        "colab": {}
      },
      "source": [
        "def build_model():\n",
        "    base_model = densenet.DenseNet121(input_shape=(img_width, img_height, 3),\n",
        "                                     weights='../input/full-keras-pretrained-no-top/densenet121_weights_tf_dim_ordering_tf_kernels_notop.h5',\n",
        "                                     include_top=False,\n",
        "                                     pooling='avg')\n",
        "    for layer in base_model.layers:\n",
        "      layer.trainable = True\n",
        "\n",
        "    x = base_model.output\n",
        "    x = Dense(1000, kernel_regularizer=regularizers.l1_l2(0.01), activity_regularizer=regularizers.l2(0.01))(x)\n",
        "    x = Activation('relu')(x)\n",
        "    x = Dense(500, kernel_regularizer=regularizers.l1_l2(0.01), activity_regularizer=regularizers.l2(0.01))(x)\n",
        "    x = Activation('relu')(x)\n",
        "    predictions = Dense(n_classes, activation='softmax')(x)\n",
        "    model = Model(inputs=base_model.input, outputs=predictions)\n",
        "    \n",
        "    return model"
      ],
      "execution_count": 0,
      "outputs": []
    },
    {
      "cell_type": "code",
      "metadata": {
        "id": "2DzHvFp9vQTg",
        "colab_type": "code",
        "colab": {}
      },
      "source": [
        "model = build_model()\n",
        "model.compile(loss='categorical_crossentropy', optimizer='adam', metrics=['acc', 'mse'])"
      ],
      "execution_count": 0,
      "outputs": []
    },
    {
      "cell_type": "code",
      "metadata": {
        "id": "N2ZakgcIvTM2",
        "colab_type": "code",
        "colab": {}
      },
      "source": [
        "early_stop = EarlyStopping(monitor='val_loss', patience=8, verbose=1, min_delta=1e-4)\n",
        "reduce_lr = ReduceLROnPlateau(monitor='val_loss', factor=0.1, patience=4, verbose=1, min_delta=1e-4)\n",
        "callbacks_list = [early_stop, reduce_lr]"
      ],
      "execution_count": 0,
      "outputs": []
    },
    {
      "cell_type": "code",
      "metadata": {
        "id": "poktb3y8vV0g",
        "colab_type": "code",
        "colab": {}
      },
      "source": [
        "model_history = model.fit_generator(\n",
        "    train_generator,\n",
        "    epochs=epochs,\n",
        "    validation_data=validation_generator,\n",
        "    validation_steps=nb_validation_samples // batch_size,\n",
        "    callbacks=callbacks_list)"
      ],
      "execution_count": 0,
      "outputs": []
    },
    {
      "cell_type": "code",
      "metadata": {
        "id": "u4fTD1rIvdzO",
        "colab_type": "code",
        "colab": {}
      },
      "source": [
        "plt.figure(0)\n",
        "plt.plot(model_history.history['acc'],'r')\n",
        "plt.plot(model_history.history['val_acc'],'g')\n",
        "plt.xticks(np.arange(0, 20, 1.0))\n",
        "plt.rcParams['figure.figsize'] = (8, 6)\n",
        "plt.xlabel(\"Num of Epochs\")\n",
        "plt.ylabel(\"Accuracy\")\n",
        "plt.title(\"Training Accuracy vs Validation Accuracy\")\n",
        "plt.legend(['train','validation'])\n",
        " \n",
        "plt.figure(1)\n",
        "plt.plot(model_history.history['loss'],'r')\n",
        "plt.plot(model_history.history['val_loss'],'g')\n",
        "plt.xticks(np.arange(0, 20, 1.0))\n",
        "plt.rcParams['figure.figsize'] = (8, 6)\n",
        "plt.xlabel(\"Num of Epochs\")\n",
        "plt.ylabel(\"Loss\")\n",
        "plt.title(\"Training Loss vs Validation Loss\")\n",
        "plt.legend(['train','validation'])\n",
        "\n",
        "plt.figure(2)\n",
        "plt.plot(model_history.history['mean_squared_error'],'r')\n",
        "plt.plot(model_history.history['val_mean_squared_error'],'g')\n",
        "plt.xticks(np.arange(0, 20, 1.0))\n",
        "plt.rcParams['figure.figsize'] = (8, 6)\n",
        "plt.xlabel(\"Num of Epochs\")\n",
        "plt.ylabel(\"MSE\")\n",
        "plt.title(\"Training Loss vs Validation Loss\")\n",
        "plt.legend(['train','validation'])\n",
        " \n",
        "plt.show()"
      ],
      "execution_count": 0,
      "outputs": []
    },
    {
      "cell_type": "code",
      "metadata": {
        "id": "UrQvprXfvgnZ",
        "colab_type": "code",
        "colab": {}
      },
      "source": [
        "model.evaluate_generator(validation_generator, steps=None, max_queue_size=10, workers=1, use_multiprocessing=False)"
      ],
      "execution_count": 0,
      "outputs": []
    },
    {
      "cell_type": "code",
      "metadata": {
        "id": "VASERX_8vjA1",
        "colab_type": "code",
        "colab": {}
      },
      "source": [
        "pred = model.predict_generator(validation_generator, steps=None, max_queue_size=10, workers=1, use_multiprocessing=False, verbose=1)\n",
        "predicted = np.argmax(pred, axis=1)"
      ],
      "execution_count": 0,
      "outputs": []
    },
    {
      "cell_type": "code",
      "metadata": {
        "id": "Fwd0VJmNvlyO",
        "colab_type": "code",
        "colab": {}
      },
      "source": [
        "print('Confusion Matrix')\n",
        "cm = confusion_matrix(validation_generator.classes, np.argmax(pred, axis=1))\n",
        "plt.figure(figsize = (30,20))\n",
        "sn.set(font_scale=1.4) #for label size\n",
        "sn.heatmap(cm, annot=True, annot_kws={\"size\": 12}) # font size\n",
        "plt.show()\n",
        "print()\n",
        "print('Classification Report')\n",
        "print(classification_report(validation_generator.classes, predicted, target_names=class_names))"
      ],
      "execution_count": 0,
      "outputs": []
    },
    {
      "cell_type": "code",
      "metadata": {
        "id": "Damz_c68vqnw",
        "colab_type": "code",
        "colab": {}
      },
      "source": [
        "#===================================================Predict=====================================================\n",
        "def predict_one(model):\n",
        "    image_batch, classes_batch = next(validation_generator)\n",
        "    predicted_batch = model.predict(image_batch)\n",
        "    for k in range(0,image_batch.shape[0]):\n",
        "      image = image_batch[k]\n",
        "      pred = predicted_batch[k]\n",
        "      the_pred = np.argmax(pred)\n",
        "      predicted = class_names[the_pred]\n",
        "      val_pred = max(pred)\n",
        "      the_class = np.argmax(classes_batch[k])\n",
        "      value = class_names[np.argmax(classes_batch[k])]\n",
        "      plt.figure(k)\n",
        "      isTrue = (the_pred == the_class)\n",
        "      plt.title(str(isTrue) + ' - class: ' + value + ' - ' + 'predicted: ' + predicted + '[' + str(val_pred) + ']')\n",
        "      plt.imshow(image)\n",
        "\n",
        "predict_one(model)"
      ],
      "execution_count": 0,
      "outputs": []
    }
  ]
}